{
 "cells": [
  {
   "cell_type": "code",
   "execution_count": 1,
   "metadata": {},
   "outputs": [],
   "source": [
    "from bs4 import BeautifulSoup\n",
    "import requests\n",
    "import pandas as pd"
   ]
  },
  {
   "cell_type": "code",
   "execution_count": 3,
   "metadata": {},
   "outputs": [],
   "source": [
    "main_site = requests.get('https://portal.sanayigazetesi.com.tr/osbler/Sehir/IsletmeSayisi.htm')\n",
    "sanayiler = []\n",
    "\n",
    "soup = BeautifulSoup(main_site.content)\n",
    "satirlar = soup.select('[class*=\"eksoruosblist\"]')\n",
    "\n",
    "for satir in satirlar:\n",
    "    adkolon = satir.select('[class*=\"grid_7\"]')[0].select('a')[0]\n",
    "    digerkolonlar = satir.select('[class*=\"grid_2\"]')\n",
    "\n",
    "    ad = adkolon.text\n",
    "    link = 'https://portal.sanayigazetesi.com.tr/' + adkolon['href']\n",
    "    isletme_sayisi = digerkolonlar[0].select('a')[0].text\n",
    "    sehir = digerkolonlar[1].select('a')[0].text\n",
    "\n",
    "    telefon = 'Cekilemedi'\n",
    "    fax = 'Cekilemedi'\n",
    "    web_site = 'Cekilemedi'\n",
    "    email = 'Cekilemedi'\n",
    "    try:\n",
    "        sayfa = requests.get(link)\n",
    "        _soup = BeautifulSoup(sayfa.content)\n",
    "        bilgiler = _soup.select('[class*=\"grid_osb\"]')[1].select('tr')\n",
    "        telefon = bilgiler[1].text\n",
    "        fax = bilgiler[2].text\n",
    "        web_site = bilgiler[3].text\n",
    "        email = bilgiler[4].text\n",
    "    except:\n",
    "        pass\n",
    "\n",
    "    sanayiler.append({'ad': ad, 'link': link, 'isletme_sayisi': isletme_sayisi, 'sehir': sehir, 'telefon': telefon, 'fax': fax, 'email': email, 'web_site': web_site})\n",
    "\n",
    "df = pd.DataFrame.from_dict(sanayiler)\n",
    "df.to_excel('Sanayiler.xlsx')"
   ]
  }
 ],
 "metadata": {
  "kernelspec": {
   "display_name": "Python 3",
   "language": "python",
   "name": "python3"
  },
  "language_info": {
   "codemirror_mode": {
    "name": "ipython",
    "version": 3
   },
   "file_extension": ".py",
   "mimetype": "text/x-python",
   "name": "python",
   "nbconvert_exporter": "python",
   "pygments_lexer": "ipython3",
   "version": "3.9.6"
  },
  "orig_nbformat": 4,
  "vscode": {
   "interpreter": {
    "hash": "31f2aee4e71d21fbe5cf8b01ff0e069b9275f58929596ceb00d14d90e3e16cd6"
   }
  }
 },
 "nbformat": 4,
 "nbformat_minor": 2
}
